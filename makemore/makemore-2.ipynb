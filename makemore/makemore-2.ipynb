{
 "cells": [
  {
   "cell_type": "code",
   "execution_count": 1,
   "id": "f63ad2b1",
   "metadata": {},
   "outputs": [],
   "source": [
    "import torch\n",
    "import torch.nn.functional as F\n",
    "import importlib\n",
    "import matplotlib.pyplot as plt\n",
    "import random\n",
    "mm = importlib.import_module(\"makemore-1\")"
   ]
  },
  {
   "cell_type": "code",
   "execution_count": 2,
   "id": "c3353a5e",
   "metadata": {},
   "outputs": [
    {
     "data": {
      "text/plain": [
       "'.abcdefghijklmnopqrstuvwxyz'"
      ]
     },
     "execution_count": 2,
     "metadata": {},
     "output_type": "execute_result"
    }
   ],
   "source": [
    "mm.CHARS"
   ]
  },
  {
   "cell_type": "code",
   "execution_count": 3,
   "id": "1da96d50",
   "metadata": {},
   "outputs": [],
   "source": [
    "words = mm.load_words_from_file('names.txt')"
   ]
  },
  {
   "cell_type": "markdown",
   "id": "abfe4f71",
   "metadata": {},
   "source": [
    "# what are we trying to do\n",
    "\n",
    "add more context in training data. we don't want input-output pairs to just be $(c_k, c_{k+1})$, but rather $((c_{k-B+1}, \\ldots, c_k), c_{k+1})$ for context length $B$.\n",
    "\n",
    "From our set of words, build up a training set of character sequences $(c_{k-B+1}, \\ldots, c_{k-1}) \\mapsto c_k$."
   ]
  },
  {
   "cell_type": "code",
   "execution_count": 35,
   "id": "c898710a",
   "metadata": {},
   "outputs": [
    {
     "name": "stdout",
     "output_type": "stream",
     "text": [
      "torch.Size([182478, 3]) torch.Size([182478])\n",
      "torch.Size([22888, 3]) torch.Size([22888])\n",
      "torch.Size([22780, 3]) torch.Size([22780])\n",
      "228146\n"
     ]
    }
   ],
   "source": [
    "def make_dataset_split(words, B):\n",
    "  xs = []\n",
    "  ys = []\n",
    "  start_idx = mm.CHAR_INDICES['.']\n",
    "  \n",
    "  for word in words:\n",
    "    # initial context_array = [0, 0, 0]\n",
    "    context_array = [start_idx] * B\n",
    "    xs.append(context_array.copy())\n",
    "    word = f'{word}.'\n",
    "\n",
    "    # loop invariant:\n",
    "    #   - xs has a sequence of inputs already processed (possibly empty),\n",
    "    #     followed by the next input to be processed\n",
    "    #   - xs = [x_1, ..., x_{k-1}, x_k]^T\n",
    "    #   - ys = [y_1, ..., y_{k-1}]^T has a sequence of outputs, one for each\n",
    "    #     of the inputs already processed.\n",
    "    for ch in word:\n",
    "      ch_idx = mm.CHAR_INDICES[ch]\n",
    "      ys.append(ch_idx)\n",
    "      # assuming training data contains no \".\"'s and has properly been filtered out,\n",
    "      # then the only way ch_idx == 0 is if we're at the end\n",
    "      if ch_idx != 0:\n",
    "        context_array.pop(0)\n",
    "        context_array.append(ch_idx)\n",
    "        xs.append(context_array.copy())\n",
    "\n",
    "  X = torch.tensor(xs)\n",
    "  Y = torch.tensor(ys)\n",
    "  print(X.shape, Y.shape)\n",
    "  return (X, Y)\n",
    "\n",
    "# 80/10/10 split\n",
    "B = 3\n",
    "M = len(words)\n",
    "random.seed(12345)\n",
    "random.shuffle(words)\n",
    "X_tr, Y_tr = make_dataset_split(words[:int(0.8 * M)], B)\n",
    "X_val, Y_val = make_dataset_split(words[int(0.8 * M):int(0.9 * M)], B)\n",
    "X_tst, Y_tst = make_dataset_split(words[int(0.9 * M):], B)\n",
    "print(X_tr.shape[0] + X_val.shape[0] + X_tst.shape[0])"
   ]
  },
  {
   "cell_type": "markdown",
   "id": "995c8c05",
   "metadata": {},
   "source": [
    "# Using an MLP w/ character embeddings"
   ]
  },
  {
   "cell_type": "markdown",
   "id": "ffdb9c35",
   "metadata": {},
   "source": [
    "We build an n-gram probability model: a model that calculates the conditional probability of the next character $\\textbf{c}_t$ given the previously seen characters $(\\textbf{c}_{t-d+1}, \\ldots, \\textbf{c}_{t-1})$:\n",
    "\n",
    "$$P(\\textbf{c}_t | \\textbf{c}_{t-1}, \\textbf{c}_{t-2}, \\ldots, \\textbf{c}_{t-d+1})$$\n",
    "\n",
    "using\n",
    "\n",
    "1. a character embedding layer\n",
    "2. a hidden layer with a non-linearity (tanh activation) \n",
    "3. a softmax layer\n",
    "\n",
    "(NOTE: below, using \"$e$\" to be a variable, $\\exp$ will be the exponential function. sorry not sorry.) the layers are defined by:\n",
    "\n",
    " - $c =$ the current sequence of characters\n",
    " - $e = C(c)$\n",
    " - $h = \\text{tanh}((W^{(1)})^T e + b^{(1)})$\n",
    " - $l = (W^{(2)})^T x + b^{(1)}$\n",
    " - $p = \\text{softmax}(l)$\n",
    " - $\\text{loss} = \\text{Cross-Entropy}(p)$\n",
    " \n",
    "$$c \\mapsto e \\mapsto h \\mapsto l \\mapsto p$$\n",
    "\n",
    "and we calculate the loss for each input's output probability vector $p$.\n",
    " \n",
    "some notation:\n",
    "\n",
    " - block size $B$ ($B = 3$ here)\n",
    " - a single, shared character embedding $C: \\text{Chars } \\to R^d$\n",
    "    - $R^d$ is the embedding space\n",
    "    - here, $d = 2$\n",
    " - $K$ is the size of the hidden layer output (here $K = 100$)\n",
    " - $W^{(1)} \\in \\mathbb{R}^{(Bd) \\times K}$, and $b^{(1)} \\in \\mathbb{R}^K$\n",
    " - $W^{(2)} \\in \\mathbb{R}^{K \\times 27}$, and $b^{(2)} \\in \\mathbb{R}^{27}$"
   ]
  },
  {
   "cell_type": "code",
   "execution_count": 42,
   "id": "9526ed55",
   "metadata": {
    "scrolled": false
   },
   "outputs": [
    {
     "name": "stdout",
     "output_type": "stream",
     "text": [
      "number of parameters = 15032\n"
     ]
    }
   ],
   "source": [
    "d = 15\n",
    "K = 200\n",
    "\n",
    "C = torch.randn((27,d))\n",
    "\n",
    "g = torch.Generator().manual_seed(12345)\n",
    "W1 = torch.randn((B*d, K), generator=g) * 0.01\n",
    "#b1 = torch.randn((K,), generator=g)\n",
    "b1 = torch.zeros((K,))\n",
    "W2 = torch.randn((K, 27), generator=g) * 0.01\n",
    "#b2 = torch.randn((27,), generator=g)\n",
    "b2 = torch.zeros((27,))\n",
    "\n",
    "params = [C, W1, b1, W2, b2]\n",
    "\n",
    "for prm in params:\n",
    "  prm.requires_grad = True\n",
    "\n",
    "\n",
    "print(f\"number of parameters = {sum([p.nelement() for p in params])}\")"
   ]
  },
  {
   "cell_type": "code",
   "execution_count": 37,
   "id": "410efb3c",
   "metadata": {
    "scrolled": true
   },
   "outputs": [
    {
     "name": "stdout",
     "output_type": "stream",
     "text": [
      "[0] loss = 3.2928266525268555\n",
      "[2000] loss = 2.2642881870269775\n",
      "[4000] loss = 2.392799139022827\n",
      "[6000] loss = 2.1829721927642822\n",
      "[8000] loss = 2.2909421920776367\n",
      "[10000] loss = 2.2610785961151123\n",
      "[12000] loss = 2.0963923931121826\n",
      "[14000] loss = 2.091804265975952\n",
      "[16000] loss = 2.109731912612915\n",
      "[18000] loss = 2.315352201461792\n",
      "[20000] loss = 2.083237886428833\n",
      "[22000] loss = 2.0849356651306152\n",
      "[24000] loss = 2.3388185501098633\n",
      "[26000] loss = 1.9437838792800903\n",
      "[28000] loss = 2.065308094024658\n",
      "[30000] loss = 2.099456548690796\n",
      "[32000] loss = 2.3134610652923584\n",
      "[34000] loss = 2.086416721343994\n",
      "[36000] loss = 2.1796517372131348\n",
      "[38000] loss = 2.0145370960235596\n",
      "[40000] loss = 2.1542651653289795\n",
      "[42000] loss = 2.0774078369140625\n",
      "[44000] loss = 1.9778633117675781\n",
      "[46000] loss = 2.0208561420440674\n",
      "[48000] loss = 2.172398090362549\n",
      "[50000] loss = 2.1995396614074707\n",
      "[52000] loss = 2.0737178325653076\n",
      "[54000] loss = 2.2737693786621094\n",
      "[56000] loss = 2.0710549354553223\n",
      "[58000] loss = 2.2272589206695557\n",
      "[60000] loss = 2.0316436290740967\n",
      "[62000] loss = 2.120985269546509\n",
      "[64000] loss = 2.1998555660247803\n",
      "[66000] loss = 1.843811273574829\n",
      "[68000] loss = 2.091561794281006\n",
      "[70000] loss = 2.1226465702056885\n",
      "[72000] loss = 2.09450626373291\n",
      "[74000] loss = 1.9770598411560059\n",
      "[76000] loss = 1.9878771305084229\n",
      "[78000] loss = 1.8174816370010376\n",
      "[80000] loss = 2.1266188621520996\n",
      "[82000] loss = 2.0943562984466553\n",
      "[84000] loss = 2.0429975986480713\n",
      "[86000] loss = 1.9552017450332642\n",
      "[88000] loss = 2.0191166400909424\n",
      "[90000] loss = 2.086613893508911\n",
      "[92000] loss = 1.8280165195465088\n",
      "[94000] loss = 2.0448577404022217\n",
      "[96000] loss = 2.0326907634735107\n",
      "[98000] loss = 2.2050750255584717\n",
      "[100000] loss = 2.0931689739227295\n",
      "[102000] loss = 2.102483034133911\n",
      "[104000] loss = 1.9967364072799683\n",
      "[106000] loss = 2.061450481414795\n",
      "[108000] loss = 1.9646345376968384\n",
      "[110000] loss = 1.973811149597168\n",
      "[112000] loss = 2.0447099208831787\n",
      "[114000] loss = 2.098796844482422\n",
      "[116000] loss = 1.955026626586914\n",
      "[118000] loss = 2.0964131355285645\n",
      "[120000] loss = 2.1265692710876465\n",
      "[122000] loss = 2.0021262168884277\n",
      "[124000] loss = 2.025761842727661\n",
      "[126000] loss = 1.873066782951355\n",
      "[128000] loss = 2.013378858566284\n",
      "[130000] loss = 1.9586446285247803\n",
      "[132000] loss = 2.2167136669158936\n",
      "[134000] loss = 2.0921294689178467\n",
      "[136000] loss = 2.089782953262329\n",
      "[138000] loss = 2.162341356277466\n",
      "[140000] loss = 1.9959919452667236\n",
      "[142000] loss = 2.068197011947632\n",
      "[144000] loss = 2.035496711730957\n",
      "[146000] loss = 2.061155080795288\n",
      "[148000] loss = 1.9285285472869873\n",
      "[150000] loss = 1.9632763862609863\n",
      "[152000] loss = 1.9028620719909668\n",
      "[154000] loss = 1.8514034748077393\n",
      "[156000] loss = 1.7638798952102661\n",
      "[158000] loss = 2.0468955039978027\n",
      "[160000] loss = 2.133371114730835\n",
      "[162000] loss = 1.966096043586731\n",
      "[164000] loss = 1.8978581428527832\n",
      "[166000] loss = 1.8623020648956299\n",
      "[168000] loss = 2.126307964324951\n",
      "[170000] loss = 2.1090941429138184\n",
      "[172000] loss = 2.09075927734375\n",
      "[174000] loss = 2.2027342319488525\n",
      "[176000] loss = 2.1025149822235107\n",
      "[178000] loss = 2.096904993057251\n",
      "[180000] loss = 2.071946620941162\n",
      "[182000] loss = 1.9201704263687134\n",
      "[184000] loss = 2.024383068084717\n",
      "[186000] loss = 1.9499050378799438\n",
      "[188000] loss = 2.045626163482666\n",
      "[190000] loss = 1.9613410234451294\n",
      "[192000] loss = 1.9680360555648804\n",
      "[194000] loss = 2.0574681758880615\n",
      "[196000] loss = 2.242027997970581\n",
      "[198000] loss = 2.018097400665283\n",
      "[200000] loss = 1.989729642868042\n"
     ]
    }
   ],
   "source": [
    "num_iters = 200000\n",
    "get_learning_rate = lambda it: 0.1 if it < 100000 else 0.01\n",
    "batch_size = 128\n",
    "\n",
    "for it in range(num_iters):\n",
    "  batch_idxs = torch.randint(0, X_tr.shape[0], (batch_size,))\n",
    "  X_batch = X_tr[batch_idxs]\n",
    "  Y_batch = Y_tr[batch_idxs]\n",
    "  \n",
    "  # forward propagation, calculate outputs and loss\n",
    "  embeddings = C[X_batch].view(-1, B*d)\n",
    "  hiddens = torch.tanh(embeddings @ W1 + b1)\n",
    "  logits = hiddens @ W2 + b2\n",
    "  loss = F.cross_entropy(logits, Y_batch)\n",
    "  \n",
    "  if it % 2000 == 0:\n",
    "    print(f\"[{it}] loss = {loss.item()}\")\n",
    "\n",
    "  # backward propagate the error gradient\n",
    "  for prm in params:\n",
    "    prm.grad = None\n",
    "  loss.backward()\n",
    "  \n",
    "  # update\n",
    "  for prm in params:\n",
    "    prm.data += -get_learning_rate(it) * prm.grad\n",
    "\n",
    "print(f\"[{num_iters}] loss = {loss.item()}\")"
   ]
  },
  {
   "cell_type": "code",
   "execution_count": 41,
   "id": "1393777b",
   "metadata": {},
   "outputs": [
    {
     "name": "stdout",
     "output_type": "stream",
     "text": [
      "1.9967976808547974 2.100590705871582\n"
     ]
    }
   ],
   "source": [
    "def get_split_loss(Xspl, Yspl):\n",
    "  embeddings = C[Xspl].view(-1, B*d)\n",
    "  hiddens = torch.tanh(embeddings @ W1 + b1)\n",
    "  logits = hiddens @ W2 + b2\n",
    "  loss = F.cross_entropy(logits, Yspl)\n",
    "  return loss.item()\n",
    "\n",
    "loss_tr = get_split_loss(X_tr, Y_tr)\n",
    "loss_val = get_split_loss(X_val, Y_val)\n",
    "print(loss_tr, loss_val)"
   ]
  },
  {
   "cell_type": "markdown",
   "id": "36ed153e",
   "metadata": {},
   "source": [
    "# sample"
   ]
  },
  {
   "cell_type": "code",
   "execution_count": 34,
   "id": "52127d39",
   "metadata": {},
   "outputs": [
    {
     "name": "stdout",
     "output_type": "stream",
     "text": [
      "levik.\n",
      "lina.\n",
      "makinzley.\n",
      "ara.\n",
      "armanzesmune.\n",
      "davonnest.\n",
      "jahlani.\n",
      "graelexunahoza.\n",
      "zane.\n",
      "masnitoluwadairat.\n",
      "brosat.\n",
      "tesley.\n",
      "azuinn.\n",
      "konii.\n",
      "moghl.\n",
      "felia.\n",
      "aley.\n",
      "jusseisyn.\n",
      "mira.\n",
      "rhyleigh.\n"
     ]
    }
   ],
   "source": [
    "for _ in range(20):\n",
    "  curr_name = ''\n",
    "  context_array = [start_idx] * B\n",
    "  while True:\n",
    "    # feedforward the current context\n",
    "    # get the probabilities of the next character\n",
    "    # pick the maximum probability character\n",
    "    # append max prob character to curr_name and context\n",
    "    # forward propagation, calculate outputs and loss\n",
    "    embeddings = C[torch.tensor(context_array)].view(-1, B*d)\n",
    "    hiddens = torch.tanh(embeddings @ W1 + b1)\n",
    "    logits = hiddens @ W2 + b2\n",
    "    probs = F.softmax(logits, dim=1)\n",
    "    ch_idx = torch.multinomial(probs, num_samples=1, generator=g).item()\n",
    "    context_array = context_array[1:] + [ch_idx]\n",
    "    curr_name += mm.CHARS[ch_idx]\n",
    "    if ch_idx == 0:\n",
    "      break\n",
    "  print(curr_name)"
   ]
  },
  {
   "cell_type": "markdown",
   "id": "bdd8eebf",
   "metadata": {},
   "source": [
    "# tune learning rate"
   ]
  },
  {
   "cell_type": "code",
   "execution_count": 47,
   "id": "09b23497",
   "metadata": {},
   "outputs": [
    {
     "name": "stdout",
     "output_type": "stream",
     "text": [
      "number of parameters = 15032\n",
      "[0] loss = 26.182817459106445\n",
      "[200] loss = 22.446420669555664\n",
      "[400] loss = 16.860595703125\n",
      "[600] loss = 12.526937484741211\n",
      "[800] loss = 9.016912460327148\n",
      "final loss = 19.880329132080078\n"
     ]
    }
   ],
   "source": [
    "d = 15\n",
    "K = 200\n",
    "\n",
    "C = torch.randn((27,d))\n",
    "\n",
    "g = torch.Generator().manual_seed(12345)\n",
    "W1 = torch.randn((B*d, K), generator=g)\n",
    "b1 = torch.randn((K,), generator=g)\n",
    "W2 = torch.randn((K, 27), generator=g)\n",
    "b2 = torch.randn((27,), generator=g)\n",
    "\n",
    "params = [C, W1, b1, W2, b2]\n",
    "\n",
    "for prm in params:\n",
    "  prm.requires_grad = True\n",
    "\n",
    "\n",
    "print(f\"number of parameters = {sum([p.nelement() for p in params])}\")\n",
    "\n",
    "\n",
    "num_iters = 1000\n",
    "lr_exps = torch.linspace(-3, 0.2, num_iters)\n",
    "lrs = 10 ** lr_exps\n",
    "losses = []\n",
    "batch_size = 32\n",
    "\n",
    "for it in range(num_iters):\n",
    "  batch_idxs = torch.randint(0, X_tr.shape[0], (batch_size,))\n",
    "  X_batch = X_tr[batch_idxs]\n",
    "  Y_batch = Y_tr[batch_idxs]\n",
    "  \n",
    "  # forward propagation, calculate outputs and loss\n",
    "  embeddings = C[X_batch].view(-1, B*d)\n",
    "  hiddens = torch.tanh(embeddings @ W1 + b1)\n",
    "  logits = hiddens @ W2 + b2\n",
    "  loss = F.cross_entropy(logits, Y_batch)\n",
    "  \n",
    "  if it % 200 == 0:\n",
    "    print(f\"[{it}] loss = {loss.item()}\")\n",
    "    \n",
    "  losses.append(loss.item())\n",
    "\n",
    "  # backward propagate the error gradient\n",
    "  for prm in params:\n",
    "    prm.grad = None\n",
    "  loss.backward()\n",
    "  \n",
    "  # update\n",
    "  for prm in params:\n",
    "    prm.data += -lrs[it] * prm.grad\n",
    "    \n",
    "\n",
    "print(f\"final loss = {loss.item()}\")"
   ]
  },
  {
   "cell_type": "code",
   "execution_count": 48,
   "id": "9fbb2d0c",
   "metadata": {},
   "outputs": [
    {
     "data": {
      "text/plain": [
       "[<matplotlib.lines.Line2D at 0x7f4195a0e430>]"
      ]
     },
     "execution_count": 48,
     "metadata": {},
     "output_type": "execute_result"
    },
    {
     "data": {
      "image/png": "[encoded data removed]",
      "text/plain": [
       "<Figure size 640x480 with 1 Axes>"
      ]
     },
     "metadata": {},
     "output_type": "display_data"
    }
   ],
   "source": [
    "plt.plot(lr_exps, losses)"
   ]
  },
  {
   "cell_type": "code",
   "execution_count": null,
   "id": "6fb4611e",
   "metadata": {},
   "outputs": [],
   "source": []
  }
 ],
 "metadata": {
  "kernelspec": {
   "display_name": "Python 3 (ipykernel)",
   "language": "python",
   "name": "python3"
  },
  "language_info": {
   "codemirror_mode": {
    "name": "ipython",
    "version": 3
   },
   "file_extension": ".py",
   "mimetype": "text/x-python",
   "name": "python",
   "nbconvert_exporter": "python",
   "pygments_lexer": "ipython3",
   "version": "3.8.10"
  }
 },
 "nbformat": 4,
 "nbformat_minor": 5
}
